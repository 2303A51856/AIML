{
  "nbformat": 4,
  "nbformat_minor": 0,
  "metadata": {
    "colab": {
      "provenance": [],
      "authorship_tag": "ABX9TyOKzRTvKKEbHfAO+hhjxq8V",
      "include_colab_link": true
    },
    "kernelspec": {
      "name": "python3",
      "display_name": "Python 3"
    },
    "language_info": {
      "name": "python"
    }
  },
  "cells": [
    {
      "cell_type": "markdown",
      "metadata": {
        "id": "view-in-github",
        "colab_type": "text"
      },
      "source": [
        "<a href=\"https://colab.research.google.com/github/2303A51856/AIML/blob/main/Lab_Exam_q_1_.ipynb\" target=\"_parent\"><img src=\"https://colab.research.google.com/assets/colab-badge.svg\" alt=\"Open In Colab\"/></a>"
      ]
    },
    {
      "cell_type": "code",
      "source": [
        "import pandas as pd\n",
        "\n",
        "# Sample DataFrame\n",
        "data = {\n",
        "    'material': ['cotton', 'polyester', 'wool', 'silk', 'linen', 'cotton', 'silk', 'wool', 'polyester', 'cotton'],\n",
        "    'sales': [200, 300, 150, 100, 50, 250, 400, 100, 300, 200]\n",
        "}\n",
        "\n",
        "df = pd.DataFrame(data)\n",
        "\n",
        "# Top 5 materials\n",
        "top_materials = df['material'].value_counts().nlargest(5)\n",
        "print(\"Top 5 materials used for garment making:\")\n",
        "print(top_materials)"
      ],
      "metadata": {
        "colab": {
          "base_uri": "https://localhost:8080/"
        },
        "id": "FGXuMFNLu8bc",
        "outputId": "7f398e60-7adb-42ec-c272-d48b98f5db99"
      },
      "execution_count": 8,
      "outputs": [
        {
          "output_type": "stream",
          "name": "stdout",
          "text": [
            "Top 5 materials used for garment making:\n",
            "material\n",
            "cotton       3\n",
            "polyester    2\n",
            "wool         2\n",
            "silk         2\n",
            "linen        1\n",
            "Name: count, dtype: int64\n"
          ]
        }
      ]
    }
  ]
}