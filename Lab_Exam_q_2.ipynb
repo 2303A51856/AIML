{
  "nbformat": 4,
  "nbformat_minor": 0,
  "metadata": {
    "colab": {
      "provenance": [],
      "authorship_tag": "ABX9TyOprQiHJ+DxkRhyTmKRUhLg",
      "include_colab_link": true
    },
    "kernelspec": {
      "name": "python3",
      "display_name": "Python 3"
    },
    "language_info": {
      "name": "python"
    }
  },
  "cells": [
    {
      "cell_type": "markdown",
      "metadata": {
        "id": "view-in-github",
        "colab_type": "text"
      },
      "source": [
        "<a href=\"https://colab.research.google.com/github/2303A51856/AIML/blob/main/Lab_Exam_q_2.ipynb\" target=\"_parent\"><img src=\"https://colab.research.google.com/assets/colab-badge.svg\" alt=\"Open In Colab\"/></a>"
      ]
    },
    {
      "cell_type": "code",
      "source": [
        "# Import pandas library\n",
        "import pandas as pd\n",
        "\n",
        "# Sample DataFrame for seasons\n",
        "season_data = {\n",
        "    'season': ['summer', 'winter', 'spring', 'autumn', 'summer', 'winter'],\n",
        "    'sales': [300, 150, 200, 100, 250, 180]\n",
        "}\n",
        "\n",
        "# Create DataFrame using pandas\n",
        "season_df = pd.DataFrame(season_data)\n",
        "\n",
        "# Seasons with most garment usage\n",
        "top_seasons = season_df.groupby('season')['sales'].sum().nlargest(5)\n",
        "print(\"\\nSeasons with most garment usage:\")\n",
        "print(top_seasons)"
      ],
      "metadata": {
        "colab": {
          "base_uri": "https://localhost:8080/"
        },
        "id": "pstNpW0yzA9X",
        "outputId": "b9b8ed48-0bc9-413c-cae5-8f6ce3388ca8"
      },
      "execution_count": 2,
      "outputs": [
        {
          "output_type": "stream",
          "name": "stdout",
          "text": [
            "\n",
            "Seasons with most garment usage:\n",
            "season\n",
            "summer    550\n",
            "winter    330\n",
            "spring    200\n",
            "autumn    100\n",
            "Name: sales, dtype: int64\n"
          ]
        }
      ]
    }
  ]
}