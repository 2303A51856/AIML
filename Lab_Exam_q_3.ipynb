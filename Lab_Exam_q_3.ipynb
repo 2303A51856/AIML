{
  "nbformat": 4,
  "nbformat_minor": 0,
  "metadata": {
    "colab": {
      "provenance": [],
      "authorship_tag": "ABX9TyNRdffm0VLMIefz8gKI9j3n",
      "include_colab_link": true
    },
    "kernelspec": {
      "name": "python3",
      "display_name": "Python 3"
    },
    "language_info": {
      "name": "python"
    }
  },
  "cells": [
    {
      "cell_type": "markdown",
      "metadata": {
        "id": "view-in-github",
        "colab_type": "text"
      },
      "source": [
        "<a href=\"https://colab.research.google.com/github/2303A51856/AIML/blob/main/Lab_Exam_q_3.ipynb\" target=\"_parent\"><img src=\"https://colab.research.google.com/assets/colab-badge.svg\" alt=\"Open In Colab\"/></a>"
      ]
    },
    {
      "cell_type": "code",
      "source": [
        "!pip install pandas\n",
        "import pandas as pd  # Import the pandas library\n",
        "\n",
        "# Sample DataFrame for sizes\n",
        "size_data = {\n",
        "    'size': ['S', 'M', 'L', 'XL', 'XXL', 'S', 'M', 'L', 'L', 'M'],\n",
        "}\n",
        "\n",
        "size_df = pd.DataFrame(size_data)\n",
        "\n",
        "# Determine size distribution\n",
        "size_distribution = size_df['size'].value_counts()\n",
        "max_size = size_distribution.idxmax()  # Getting the most common size\n",
        "min_size = size_distribution.idxmin()  # Getting the least common size\n",
        "\n",
        "print(f\"\\nMax size of garments made for customers: {max_size}\")\n",
        "print(f\"Min size of garments made for customers: {min_size}\")"
      ],
      "metadata": {
        "colab": {
          "base_uri": "https://localhost:8080/"
        },
        "id": "88X8omkyzg0C",
        "outputId": "f3e883fd-1cd2-4dd9-82ee-ffa681d81946"
      },
      "execution_count": 2,
      "outputs": [
        {
          "output_type": "stream",
          "name": "stdout",
          "text": [
            "Requirement already satisfied: pandas in /usr/local/lib/python3.10/dist-packages (2.2.2)\n",
            "Requirement already satisfied: numpy>=1.22.4 in /usr/local/lib/python3.10/dist-packages (from pandas) (1.26.4)\n",
            "Requirement already satisfied: python-dateutil>=2.8.2 in /usr/local/lib/python3.10/dist-packages (from pandas) (2.8.2)\n",
            "Requirement already satisfied: pytz>=2020.1 in /usr/local/lib/python3.10/dist-packages (from pandas) (2024.2)\n",
            "Requirement already satisfied: tzdata>=2022.7 in /usr/local/lib/python3.10/dist-packages (from pandas) (2024.2)\n",
            "Requirement already satisfied: six>=1.5 in /usr/local/lib/python3.10/dist-packages (from python-dateutil>=2.8.2->pandas) (1.16.0)\n",
            "\n",
            "Max size of garments made for customers: M\n",
            "Min size of garments made for customers: XL\n"
          ]
        }
      ]
    }
  ]
}