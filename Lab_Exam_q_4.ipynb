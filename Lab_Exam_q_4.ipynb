{
  "nbformat": 4,
  "nbformat_minor": 0,
  "metadata": {
    "colab": {
      "provenance": [],
      "authorship_tag": "ABX9TyPZIk9mx7jeVhrmY8+IWKx8",
      "include_colab_link": true
    },
    "kernelspec": {
      "name": "python3",
      "display_name": "Python 3"
    },
    "language_info": {
      "name": "python"
    }
  },
  "cells": [
    {
      "cell_type": "markdown",
      "metadata": {
        "id": "view-in-github",
        "colab_type": "text"
      },
      "source": [
        "<a href=\"https://colab.research.google.com/github/2303A51856/AIML/blob/main/Lab_Exam_q_4.ipynb\" target=\"_parent\"><img src=\"https://colab.research.google.com/assets/colab-badge.svg\" alt=\"Open In Colab\"/></a>"
      ]
    },
    {
      "cell_type": "code",
      "source": [
        "# Sample DataFrame for decoration and fabric type\n",
        "!pip install pandas\n",
        "import pandas as pd # Import the pandas library with the alias 'pd'\n",
        "decoration_data = {\n",
        "    'decoration': ['embroidery', 'prints', 'embroidery', 'lace', 'prints', 'basic'],\n",
        "    'fabric_type': ['cotton', 'polyester', 'silk', 'linen', 'cotton', 'wool']\n",
        "}\n",
        "\n",
        "decoration_df = pd.DataFrame(decoration_data)\n",
        "\n",
        "# Top decorations and fabric types\n",
        "top_decorations = decoration_df['decoration'].value_counts().nlargest(5)\n",
        "top_fabric_types = decoration_df['fabric_type'].value_counts().nlargest(5)\n",
        "\n",
        "print(\"\\nTop 5 decorations used for garments:\")\n",
        "print(top_decorations)\n",
        "print(\"\\nTop 5 fabric types used for garments:\")\n",
        "print(top_fabric_types)"
      ],
      "metadata": {
        "colab": {
          "base_uri": "https://localhost:8080/"
        },
        "id": "PCVQPVCi0CO3",
        "outputId": "31fe9ce1-116b-428f-9f63-c6cf35136f91"
      },
      "execution_count": 2,
      "outputs": [
        {
          "output_type": "stream",
          "name": "stdout",
          "text": [
            "Requirement already satisfied: pandas in /usr/local/lib/python3.10/dist-packages (2.2.2)\n",
            "Requirement already satisfied: numpy>=1.22.4 in /usr/local/lib/python3.10/dist-packages (from pandas) (1.26.4)\n",
            "Requirement already satisfied: python-dateutil>=2.8.2 in /usr/local/lib/python3.10/dist-packages (from pandas) (2.8.2)\n",
            "Requirement already satisfied: pytz>=2020.1 in /usr/local/lib/python3.10/dist-packages (from pandas) (2024.2)\n",
            "Requirement already satisfied: tzdata>=2022.7 in /usr/local/lib/python3.10/dist-packages (from pandas) (2024.2)\n",
            "Requirement already satisfied: six>=1.5 in /usr/local/lib/python3.10/dist-packages (from python-dateutil>=2.8.2->pandas) (1.16.0)\n",
            "\n",
            "Top 5 decorations used for garments:\n",
            "decoration\n",
            "embroidery    2\n",
            "prints        2\n",
            "lace          1\n",
            "basic         1\n",
            "Name: count, dtype: int64\n",
            "\n",
            "Top 5 fabric types used for garments:\n",
            "fabric_type\n",
            "cotton       2\n",
            "polyester    1\n",
            "silk         1\n",
            "linen        1\n",
            "wool         1\n",
            "Name: count, dtype: int64\n"
          ]
        }
      ]
    }
  ]
}