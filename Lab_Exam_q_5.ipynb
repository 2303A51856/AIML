{
  "nbformat": 4,
  "nbformat_minor": 0,
  "metadata": {
    "colab": {
      "provenance": [],
      "authorship_tag": "ABX9TyN64uofTD27Cw34AgWEt1oa",
      "include_colab_link": true
    },
    "kernelspec": {
      "name": "python3",
      "display_name": "Python 3"
    },
    "language_info": {
      "name": "python"
    }
  },
  "cells": [
    {
      "cell_type": "markdown",
      "metadata": {
        "id": "view-in-github",
        "colab_type": "text"
      },
      "source": [
        "<a href=\"https://colab.research.google.com/github/2303A51856/AIML/blob/main/Lab_Exam_q_5.ipynb\" target=\"_parent\"><img src=\"https://colab.research.google.com/assets/colab-badge.svg\" alt=\"Open In Colab\"/></a>"
      ]
    },
    {
      "cell_type": "code",
      "source": [
        "# Sample DataFrame for garments with prices\n",
        "import pandas as pd # Importing the pandas library with the alias 'pd'\n",
        "\n",
        "garment_data = {\n",
        "    'garment_name': ['Dress A', 'Dress B', 'Dress C', 'Dress D', 'Dress E'],\n",
        "    'price': [500, 700, 300, 800, 450],\n",
        "    'style': ['casual', 'formal', 'sporty', 'designer', 'casual']\n",
        "}\n",
        "\n",
        "garment_df = pd.DataFrame(garment_data)\n",
        "\n",
        "# Finding the costliest stylish garment\n",
        "costliest_garment = garment_df.loc[garment_df['price'].idxmax()]\n",
        "print(f\"\\nCostliest stylish garment prepared for customers: {costliest_garment['garment_name']} priced at {costliest_garment['price']}\")"
      ],
      "metadata": {
        "id": "qAgUPgxw0gII",
        "outputId": "cf3fde01-0f4e-4222-8384-743744cf73e1",
        "colab": {
          "base_uri": "https://localhost:8080/"
        }
      },
      "execution_count": 2,
      "outputs": [
        {
          "output_type": "stream",
          "name": "stdout",
          "text": [
            "\n",
            "Costliest stylish garment prepared for customers: Dress D priced at 800\n"
          ]
        }
      ]
    }
  ]
}