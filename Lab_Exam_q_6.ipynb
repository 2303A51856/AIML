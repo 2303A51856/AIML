{
  "nbformat": 4,
  "nbformat_minor": 0,
  "metadata": {
    "colab": {
      "provenance": [],
      "authorship_tag": "ABX9TyPrVvf7tehc5LfYZhvrbyOy",
      "include_colab_link": true
    },
    "kernelspec": {
      "name": "python3",
      "display_name": "Python 3"
    },
    "language_info": {
      "name": "python"
    }
  },
  "cells": [
    {
      "cell_type": "markdown",
      "metadata": {
        "id": "view-in-github",
        "colab_type": "text"
      },
      "source": [
        "<a href=\"https://colab.research.google.com/github/2303A51856/AIML/blob/main/Lab_Exam_q_6.ipynb\" target=\"_parent\"><img src=\"https://colab.research.google.com/assets/colab-badge.svg\" alt=\"Open In Colab\"/></a>"
      ]
    },
    {
      "cell_type": "code",
      "source": [
        "import pandas as pd # Import the pandas library and assign it the alias 'pd'\n",
        "from sklearn.model_selection import train_test_split\n",
        "from sklearn.linear_model import LogisticRegression\n",
        "from sklearn.metrics import accuracy_score\n",
        "\n",
        "# Sample Data for classification\n",
        "classification_data = {\n",
        "    'material': ['cotton', 'polyester', 'silk', 'wool', 'linen'],\n",
        "    'style': ['casual', 'formal', 'sporty', 'designer', 'casual'],\n",
        "    'sales': [200, 300, 400, 150, 100],\n",
        "    'popular': [0, 1, 1, 0, 0]  # Target variable: 1 if popular, 0 otherwise\n",
        "}\n",
        "\n",
        "class_df = pd.DataFrame(classification_data)\n",
        "\n",
        "# Convert categorical data to dummy variables\n",
        "X = pd.get_dummies(class_df[['material', 'style', 'sales']], drop_first=True)\n",
        "y = class_df['popular']\n",
        "\n",
        "# Train-Test Split\n",
        "X_train, X_test, y_train, y_test = train_test_split(X, y, test_size=0.2, random_state=0)\n",
        "\n",
        "# Model Training\n",
        "model = LogisticRegression()\n",
        "model.fit(X_train, y_train)\n",
        "\n",
        "# Prediction\n",
        "y_pred = model.predict(X_test)\n",
        "\n",
        "# Accuracy\n",
        "accuracy = accuracy_score(y_test, y_pred)\n",
        "print(f\"\\nModel Accuracy: {accuracy:.2f}\")"
      ],
      "metadata": {
        "id": "-VkNjv9L073x",
        "outputId": "0bd07fcc-0b1e-4d9b-d8c4-d97f2838ee8a",
        "colab": {
          "base_uri": "https://localhost:8080/"
        }
      },
      "execution_count": 2,
      "outputs": [
        {
          "output_type": "stream",
          "name": "stdout",
          "text": [
            "\n",
            "Model Accuracy: 1.00\n"
          ]
        }
      ]
    }
  ]
}